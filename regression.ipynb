{
 "cells": [
  {
   "cell_type": "markdown",
   "metadata": {
    "collapsed": true,
    "pycharm": {
     "name": "#%% md\n"
    }
   },
   "source": [
    "# An example of linear regression with one variable\n",
    "\n",
    "We'll use the example of the price of cars based on the number of miles on the odometer, as well as its model, like in the stats videos.\n",
    "\n",
    "First, we'll create a Car class to store the information for a single vehicle."
   ]
  },
  {
   "cell_type": "code",
   "execution_count": 49,
   "metadata": {
    "pycharm": {
     "name": "#%%\n"
    }
   },
   "outputs": [],
   "source": [
    "class Car:\n",
    "    # This tracks the number of miles\n",
    "    # on the odometer.\n",
    "    _mi = 0\n",
    "\n",
    "    # This tracks the list price of the car.\n",
    "    _price = 0\n",
    "\n",
    "    # Initialization constructor.\n",
    "    def __init__(self, set_mi, set_price):\n",
    "        self._mi = set_mi\n",
    "        self._price = set_price\n",
    "        return\n",
    "\n",
    "    # Getters\n",
    "    def get_mi(self):\n",
    "        return self._mi\n",
    "\n",
    "    def get_price(self):\n",
    "        return self._price"
   ]
  },
  {
   "cell_type": "markdown",
   "metadata": {},
   "source": [
    "We'll need to import numpy to perform matrix operations and matplotlib to show our results as a graph.\n",
    "We'll also use csv to load the data from a file."
   ]
  },
  {
   "cell_type": "code",
   "execution_count": 50,
   "metadata": {
    "pycharm": {
     "name": "#%%\n"
    }
   },
   "outputs": [],
   "source": [
    "import numpy as np\n",
    "import matplotlib.pyplot as plt\n",
    "import csv"
   ]
  },
  {
   "cell_type": "markdown",
   "metadata": {},
   "source": [
    "Next, we need to read in the CSV file and store it as a 2d numpy array (a matrix).\n"
   ]
  },
  {
   "cell_type": "code",
   "execution_count": 51,
   "metadata": {
    "pycharm": {
     "name": "#%%\n"
    }
   },
   "outputs": [],
   "source": [
    "# Taken from the following link:\n",
    "# https://stackoverflow.com/questions/4315506/load-csv-into-2d-matrix-with-numpy-for-plotting?rq=1\n",
    "\n",
    "reader = csv.reader(open(\"cars.csv\"), delimiter=\",\")\n",
    "car_list = list(reader)\n",
    "\n",
    "cars = []\n",
    "\n",
    "# Col 0 of the CSV contains the miles\n",
    "# Col 1 of the CSV contains the price\n",
    "\n",
    "for row in car_list:\n",
    "    cars.append(Car(int(row[0]), int(row[1])))"
   ]
  },
  {
   "cell_type": "markdown",
   "metadata": {},
   "source": [
    "To run a linear regression, we first need to find the least squares solution to the matrix equation Ax = b.\n",
    "\n",
    "We'll use a line of the form y = mx + p to model our relationship.\n",
    "\n",
    "In this case, A will contain 1 in the first column (to find the constant term) and the number of miles in the second column.\n",
    "Our output vector b will simply contain the price of the car."
   ]
  },
  {
   "cell_type": "code",
   "execution_count": 52,
   "metadata": {
    "pycharm": {
     "name": "#%%\n"
    }
   },
   "outputs": [],
   "source": [
    "a = []\n",
    "b = []\n",
    "\n",
    "for car in cars:\n",
    "    a.append(np.array([1, car.get_mi()]))\n",
    "    b.append(car.get_price())\n",
    "\n",
    "a = np.array(a)\n",
    "b = np.array(b)"
   ]
  },
  {
   "cell_type": "markdown",
   "metadata": {},
   "source": [
    "We can now find the least squares solution to the system."
   ]
  },
  {
   "cell_type": "code",
   "execution_count": 56,
   "metadata": {
    "pycharm": {
     "name": "#%%\n"
    }
   },
   "outputs": [
    {
     "name": "stdout",
     "output_type": "stream",
     "text": [
      "Line of best fit: y = -3.024380400888779x + 174221.7910244649\n"
     ]
    }
   ],
   "source": [
    "# lstsq returns a lot of things, but we only need the system solution\n",
    "x = np.linalg.lstsq(a, b, rcond=None)[0]\n",
    "\n",
    "slope = x[1]\n",
    "intercept = x[0]\n",
    "\n",
    "print(\"Line of best fit: y = \" + str(slope) + \"x + \" + str(intercept))"
   ]
  },
  {
   "cell_type": "markdown",
   "source": [
    "Next, let's plot our data points and the line of best fit."
   ],
   "metadata": {
    "collapsed": false
   }
  },
  {
   "cell_type": "code",
   "execution_count": 54,
   "outputs": [
    {
     "data": {
      "text/plain": "<Figure size 432x288 with 1 Axes>",
      "image/png": "[encoded data removed]"
     },
     "metadata": {
      "needs_background": "light"
     },
     "output_type": "display_data"
    }
   ],
   "source": [
    "plt.xlabel(\"Miles traveled\")\n",
    "plt.ylabel(\"Price of car\")\n",
    "\n",
    "plt.scatter(a[:,[1]], b, color =\"blue\")\n",
    "\n",
    "largest_mi = max(car.get_mi() for car in cars)\n",
    "\n",
    "plt.plot([0, largest_mi], [intercept, (largest_mi * slope) + intercept], color=\"red\")\n",
    "\n",
    "plt.show()"
   ],
   "metadata": {
    "collapsed": false,
    "pycharm": {
     "name": "#%%\n"
    }
   }
  },
  {
   "cell_type": "markdown",
   "source": [
    "Finally, let's compute the R<sup>2</sup> value for this regression."
   ],
   "metadata": {
    "collapsed": false
   }
  },
  {
   "cell_type": "code",
   "execution_count": 55,
   "outputs": [
    {
     "name": "stdout",
     "output_type": "stream",
     "text": [
      "R^2 = 0.8624837028198311\n"
     ]
    }
   ],
   "source": [
    "avg = np.mean(b)\n",
    "\n",
    "ssr = 0\n",
    "sst = 0\n",
    "\n",
    "for car in cars:\n",
    "    best_fit_prediction = intercept + (car.get_mi() * slope)\n",
    "\n",
    "    ssr += (best_fit_prediction - avg) ** 2\n",
    "    sst += (car.get_price() - avg) ** 2\n",
    "\n",
    "r_squared = ssr/sst\n",
    "print(\"R^2 = \" + str(r_squared))"
   ],
   "metadata": {
    "collapsed": false,
    "pycharm": {
     "name": "#%%\n"
    }
   }
  },
  {
   "cell_type": "markdown",
   "source": [
    "The R<sup>2</sup> value is very high, meaning that the mileage and price of a car are likely correlated."
   ],
   "metadata": {
    "collapsed": false,
    "pycharm": {
     "name": "#%% md\n"
    }
   }
  }
 ],
 "metadata": {
  "kernelspec": {
   "display_name": "Python 3",
   "language": "python",
   "name": "python3"
  },
  "language_info": {
   "codemirror_mode": {
    "name": "ipython",
    "version": 3
   },
   "file_extension": ".py",
   "mimetype": "text/x-python",
   "name": "python",
   "nbconvert_exporter": "python",
   "pygments_lexer": "ipython3",
   "version": "3.7.6"
  }
 },
 "nbformat": 4,
 "nbformat_minor": 1
}